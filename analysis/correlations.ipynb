{
 "cells": [
  {
   "cell_type": "code",
   "execution_count": 1,
   "metadata": {},
   "outputs": [],
   "source": [
    "import pandas as pd\n",
    "from rich import print\n",
    "from scipy.stats import pearsonr, zscore\n",
    "import seaborn as sns\n",
    "import matplotlib.pyplot as plt\n",
    "%matplotlib inline\n",
    "%load_ext rich"
   ]
  },
  {
   "cell_type": "code",
   "execution_count": 7,
   "metadata": {},
   "outputs": [],
   "source": [
    "def load_file(file_path, model_name: str | None = None):\n",
    "    if model_name is None:\n",
    "        model_name = file_path.split(\"/\")[-1].split(\".\")[0]\n",
    "    df = pd.read_csv(file_path)\n",
    "    df[\"model\"] = model_name\n",
    "    df['golden_mqm_score'] = df['golden_mqm_score'].apply(lambda x: x if x > -25.0 else -25.0)\n",
    "    df[\"score_diff\"] = df[\"golden_mqm_score\"].astype(float) - df[\"llm_mqm_score\"].astype(float)\n",
    "    df[\"score_diff\"] = df[\"score_diff\"].abs()\n",
    "    df = df.dropna(subset=[\"score_diff\", \"reasoning_tokens\"])\n",
    "\n",
    "    return df"
   ]
  },
  {
   "cell_type": "code",
   "execution_count": 8,
   "metadata": {},
   "outputs": [],
   "source": [
    "dsr1 = load_file(\n",
    "    \"../src/reasoning_eval/mt/DeepSeekUtils/outputs/run_summary_deepseek-r1_deepseek-r1.csv\",\n",
    "    \"deepseek-r1\"\n",
    ")\n",
    "dsr1_q32b = load_file(\n",
    "    \"../src/reasoning_eval/mt/DeepSeekUtils/outputs/run_summary_deepseek-r1-q32b_deepseek-r1-distill-qwen-32b.csv\",\n",
    "    \"deepseek-r1-qwen-32b\"\n",
    ")\n",
    "dsr1_l70b = load_file(\n",
    "    \"../src/reasoning_eval/mt/DeepSeekUtils/outputs/run_summary_deepseek-r1-llama70b_deepseek-r1-distill-llama-70b.csv\",\n",
    "    \"deepseek-r1-llama70b\"\n",
    ")\n",
    "o3_mini_high = load_file(\n",
    "    \"../src/reasoning_eval/mt/DeepSeekUtils/outputs/run_summary_o3-mini-high_o3-mini.csv\",\n",
    "    \"o3-mini-high\"\n",
    ")\n",
    "o3_mini_low = load_file(\n",
    "    \"../src/reasoning_eval/mt/DeepSeekUtils/outputs/run_summary_o3-mini-low_o3-mini.csv\", \n",
    "    \"o3-mini-low\"\n",
    ")\n",
    "o3_mini_medium = load_file(\n",
    "    \"../src/reasoning_eval/mt/DeepSeekUtils/outputs/run_summary_o3-mini-medium_o3-mini.csv\",\n",
    "    \"o3-mini-medium\"\n",
    ")\n",
    "joint = pd.concat([dsr1, dsr1_q32b, dsr1_l70b, o3_mini_high, o3_mini_low, o3_mini_medium])"
   ]
  },
  {
   "cell_type": "code",
   "execution_count": 9,
   "metadata": {},
   "outputs": [
    {
     "data": {
      "text/html": [
       "<pre style=\"white-space:pre;overflow-x:auto;line-height:normal;font-family:Menlo,'DejaVu Sans Mono',consolas,'Courier New',monospace\">==================\n",
       "</pre>\n"
      ],
      "text/plain": [
       "==================\n"
      ]
     },
     "metadata": {},
     "output_type": "display_data"
    },
    {
     "data": {
      "text/html": [
       "<pre style=\"white-space:pre;overflow-x:auto;line-height:normal;font-family:Menlo,'DejaVu Sans Mono',consolas,'Courier New',monospace\">deepseek-r1\n",
       "</pre>\n"
      ],
      "text/plain": [
       "deepseek-r1\n"
      ]
     },
     "metadata": {},
     "output_type": "display_data"
    },
    {
     "data": {
      "text/html": [
       "<pre style=\"white-space:pre;overflow-x:auto;line-height:normal;font-family:Menlo,'DejaVu Sans Mono',consolas,'Courier New',monospace\">==================\n",
       "</pre>\n"
      ],
      "text/plain": [
       "==================\n"
      ]
     },
     "metadata": {},
     "output_type": "display_data"
    },
    {
     "data": {
      "text/html": [
       "<pre style=\"white-space:pre;overflow-x:auto;line-height:normal;font-family:Menlo,'DejaVu Sans Mono',consolas,'Courier New',monospace\">Pearson correlation between reasoning tokens and score difference: <span style=\"color: #008080; text-decoration-color: #008080; font-weight: bold\">-0.0154</span>, p-value: <span style=\"color: #008080; text-decoration-color: #008080; font-weight: bold\">0.0001</span>\n",
       "</pre>\n"
      ],
      "text/plain": [
       "Pearson correlation between reasoning tokens and score difference: \u001b[1;36m-0.0154\u001b[0m, p-value: \u001b[1;36m0.0001\u001b[0m\n"
      ]
     },
     "metadata": {},
     "output_type": "display_data"
    },
    {
     "data": {
      "text/html": [
       "<pre style=\"white-space:pre;overflow-x:auto;line-height:normal;font-family:Menlo,'DejaVu Sans Mono',consolas,'Courier New',monospace\">Pearson correlation between reasoning tokens and LLM score: <span style=\"color: #008080; text-decoration-color: #008080; font-weight: bold\">-0.0199</span>, p-value: <span style=\"color: #008080; text-decoration-color: #008080; font-weight: bold\">0.0000</span>\n",
       "</pre>\n"
      ],
      "text/plain": [
       "Pearson correlation between reasoning tokens and LLM score: \u001b[1;36m-0.0199\u001b[0m, p-value: \u001b[1;36m0.0000\u001b[0m\n"
      ]
     },
     "metadata": {},
     "output_type": "display_data"
    },
    {
     "data": {
      "text/html": [
       "<pre style=\"white-space:pre;overflow-x:auto;line-height:normal;font-family:Menlo,'DejaVu Sans Mono',consolas,'Courier New',monospace\">Pearson correlation between reasoning tokens and golden score: <span style=\"color: #008080; text-decoration-color: #008080; font-weight: bold\">-0.0417</span>, p-value: <span style=\"color: #008080; text-decoration-color: #008080; font-weight: bold\">0.0000</span>\n",
       "</pre>\n"
      ],
      "text/plain": [
       "Pearson correlation between reasoning tokens and golden score: \u001b[1;36m-0.0417\u001b[0m, p-value: \u001b[1;36m0.0000\u001b[0m\n"
      ]
     },
     "metadata": {},
     "output_type": "display_data"
    },
    {
     "data": {
      "text/html": [
       "<pre style=\"white-space:pre;overflow-x:auto;line-height:normal;font-family:Menlo,'DejaVu Sans Mono',consolas,'Courier New',monospace\">==================\n",
       "</pre>\n"
      ],
      "text/plain": [
       "==================\n"
      ]
     },
     "metadata": {},
     "output_type": "display_data"
    },
    {
     "data": {
      "text/html": [
       "<pre style=\"white-space:pre;overflow-x:auto;line-height:normal;font-family:Menlo,'DejaVu Sans Mono',consolas,'Courier New',monospace\">deepseek-r1-llama70b\n",
       "</pre>\n"
      ],
      "text/plain": [
       "deepseek-r1-llama70b\n"
      ]
     },
     "metadata": {},
     "output_type": "display_data"
    },
    {
     "data": {
      "text/html": [
       "<pre style=\"white-space:pre;overflow-x:auto;line-height:normal;font-family:Menlo,'DejaVu Sans Mono',consolas,'Courier New',monospace\">==================\n",
       "</pre>\n"
      ],
      "text/plain": [
       "==================\n"
      ]
     },
     "metadata": {},
     "output_type": "display_data"
    },
    {
     "data": {
      "text/html": [
       "<pre style=\"white-space:pre;overflow-x:auto;line-height:normal;font-family:Menlo,'DejaVu Sans Mono',consolas,'Courier New',monospace\">Pearson correlation between reasoning tokens and score difference: <span style=\"color: #008080; text-decoration-color: #008080; font-weight: bold\">-0.0429</span>, p-value: <span style=\"color: #008080; text-decoration-color: #008080; font-weight: bold\">0.0000</span>\n",
       "</pre>\n"
      ],
      "text/plain": [
       "Pearson correlation between reasoning tokens and score difference: \u001b[1;36m-0.0429\u001b[0m, p-value: \u001b[1;36m0.0000\u001b[0m\n"
      ]
     },
     "metadata": {},
     "output_type": "display_data"
    },
    {
     "data": {
      "text/html": [
       "<pre style=\"white-space:pre;overflow-x:auto;line-height:normal;font-family:Menlo,'DejaVu Sans Mono',consolas,'Courier New',monospace\">Pearson correlation between reasoning tokens and LLM score: <span style=\"color: #008080; text-decoration-color: #008080; font-weight: bold\">0.2083</span>, p-value: <span style=\"color: #008080; text-decoration-color: #008080; font-weight: bold\">0.0000</span>\n",
       "</pre>\n"
      ],
      "text/plain": [
       "Pearson correlation between reasoning tokens and LLM score: \u001b[1;36m0.2083\u001b[0m, p-value: \u001b[1;36m0.0000\u001b[0m\n"
      ]
     },
     "metadata": {},
     "output_type": "display_data"
    },
    {
     "data": {
      "text/html": [
       "<pre style=\"white-space:pre;overflow-x:auto;line-height:normal;font-family:Menlo,'DejaVu Sans Mono',consolas,'Courier New',monospace\">Pearson correlation between reasoning tokens and golden score: <span style=\"color: #008080; text-decoration-color: #008080; font-weight: bold\">0.0168</span>, p-value: <span style=\"color: #008080; text-decoration-color: #008080; font-weight: bold\">0.0000</span>\n",
       "</pre>\n"
      ],
      "text/plain": [
       "Pearson correlation between reasoning tokens and golden score: \u001b[1;36m0.0168\u001b[0m, p-value: \u001b[1;36m0.0000\u001b[0m\n"
      ]
     },
     "metadata": {},
     "output_type": "display_data"
    },
    {
     "data": {
      "text/html": [
       "<pre style=\"white-space:pre;overflow-x:auto;line-height:normal;font-family:Menlo,'DejaVu Sans Mono',consolas,'Courier New',monospace\">==================\n",
       "</pre>\n"
      ],
      "text/plain": [
       "==================\n"
      ]
     },
     "metadata": {},
     "output_type": "display_data"
    },
    {
     "data": {
      "text/html": [
       "<pre style=\"white-space:pre;overflow-x:auto;line-height:normal;font-family:Menlo,'DejaVu Sans Mono',consolas,'Courier New',monospace\">deepseek-r1-qwen-32b\n",
       "</pre>\n"
      ],
      "text/plain": [
       "deepseek-r1-qwen-32b\n"
      ]
     },
     "metadata": {},
     "output_type": "display_data"
    },
    {
     "data": {
      "text/html": [
       "<pre style=\"white-space:pre;overflow-x:auto;line-height:normal;font-family:Menlo,'DejaVu Sans Mono',consolas,'Courier New',monospace\">==================\n",
       "</pre>\n"
      ],
      "text/plain": [
       "==================\n"
      ]
     },
     "metadata": {},
     "output_type": "display_data"
    },
    {
     "data": {
      "text/html": [
       "<pre style=\"white-space:pre;overflow-x:auto;line-height:normal;font-family:Menlo,'DejaVu Sans Mono',consolas,'Courier New',monospace\">Pearson correlation between reasoning tokens and score difference: <span style=\"color: #008080; text-decoration-color: #008080; font-weight: bold\">-0.0039</span>, p-value: <span style=\"color: #008080; text-decoration-color: #008080; font-weight: bold\">0.3036</span>\n",
       "</pre>\n"
      ],
      "text/plain": [
       "Pearson correlation between reasoning tokens and score difference: \u001b[1;36m-0.0039\u001b[0m, p-value: \u001b[1;36m0.3036\u001b[0m\n"
      ]
     },
     "metadata": {},
     "output_type": "display_data"
    },
    {
     "data": {
      "text/html": [
       "<pre style=\"white-space:pre;overflow-x:auto;line-height:normal;font-family:Menlo,'DejaVu Sans Mono',consolas,'Courier New',monospace\">Pearson correlation between reasoning tokens and LLM score: <span style=\"color: #008080; text-decoration-color: #008080; font-weight: bold\">0.1508</span>, p-value: <span style=\"color: #008080; text-decoration-color: #008080; font-weight: bold\">0.0000</span>\n",
       "</pre>\n"
      ],
      "text/plain": [
       "Pearson correlation between reasoning tokens and LLM score: \u001b[1;36m0.1508\u001b[0m, p-value: \u001b[1;36m0.0000\u001b[0m\n"
      ]
     },
     "metadata": {},
     "output_type": "display_data"
    },
    {
     "data": {
      "text/html": [
       "<pre style=\"white-space:pre;overflow-x:auto;line-height:normal;font-family:Menlo,'DejaVu Sans Mono',consolas,'Courier New',monospace\">Pearson correlation between reasoning tokens and golden score: <span style=\"color: #008080; text-decoration-color: #008080; font-weight: bold\">0.0207</span>, p-value: <span style=\"color: #008080; text-decoration-color: #008080; font-weight: bold\">0.0000</span>\n",
       "</pre>\n"
      ],
      "text/plain": [
       "Pearson correlation between reasoning tokens and golden score: \u001b[1;36m0.0207\u001b[0m, p-value: \u001b[1;36m0.0000\u001b[0m\n"
      ]
     },
     "metadata": {},
     "output_type": "display_data"
    },
    {
     "data": {
      "text/html": [
       "<pre style=\"white-space:pre;overflow-x:auto;line-height:normal;font-family:Menlo,'DejaVu Sans Mono',consolas,'Courier New',monospace\">==================\n",
       "</pre>\n"
      ],
      "text/plain": [
       "==================\n"
      ]
     },
     "metadata": {},
     "output_type": "display_data"
    },
    {
     "data": {
      "text/html": [
       "<pre style=\"white-space:pre;overflow-x:auto;line-height:normal;font-family:Menlo,'DejaVu Sans Mono',consolas,'Courier New',monospace\">o3-mini-high\n",
       "</pre>\n"
      ],
      "text/plain": [
       "o3-mini-high\n"
      ]
     },
     "metadata": {},
     "output_type": "display_data"
    },
    {
     "data": {
      "text/html": [
       "<pre style=\"white-space:pre;overflow-x:auto;line-height:normal;font-family:Menlo,'DejaVu Sans Mono',consolas,'Courier New',monospace\">==================\n",
       "</pre>\n"
      ],
      "text/plain": [
       "==================\n"
      ]
     },
     "metadata": {},
     "output_type": "display_data"
    },
    {
     "data": {
      "text/html": [
       "<pre style=\"white-space:pre;overflow-x:auto;line-height:normal;font-family:Menlo,'DejaVu Sans Mono',consolas,'Courier New',monospace\">Pearson correlation between reasoning tokens and score difference: <span style=\"color: #008080; text-decoration-color: #008080; font-weight: bold\">-0.1183</span>, p-value: <span style=\"color: #008080; text-decoration-color: #008080; font-weight: bold\">0.0000</span>\n",
       "</pre>\n"
      ],
      "text/plain": [
       "Pearson correlation between reasoning tokens and score difference: \u001b[1;36m-0.1183\u001b[0m, p-value: \u001b[1;36m0.0000\u001b[0m\n"
      ]
     },
     "metadata": {},
     "output_type": "display_data"
    },
    {
     "data": {
      "text/html": [
       "<pre style=\"white-space:pre;overflow-x:auto;line-height:normal;font-family:Menlo,'DejaVu Sans Mono',consolas,'Courier New',monospace\">Pearson correlation between reasoning tokens and LLM score: <span style=\"color: #008080; text-decoration-color: #008080; font-weight: bold\">0.4742</span>, p-value: <span style=\"color: #008080; text-decoration-color: #008080; font-weight: bold\">0.0000</span>\n",
       "</pre>\n"
      ],
      "text/plain": [
       "Pearson correlation between reasoning tokens and LLM score: \u001b[1;36m0.4742\u001b[0m, p-value: \u001b[1;36m0.0000\u001b[0m\n"
      ]
     },
     "metadata": {},
     "output_type": "display_data"
    },
    {
     "data": {
      "text/html": [
       "<pre style=\"white-space:pre;overflow-x:auto;line-height:normal;font-family:Menlo,'DejaVu Sans Mono',consolas,'Courier New',monospace\">Pearson correlation between reasoning tokens and golden score: <span style=\"color: #008080; text-decoration-color: #008080; font-weight: bold\">0.0328</span>, p-value: <span style=\"color: #008080; text-decoration-color: #008080; font-weight: bold\">0.0000</span>\n",
       "</pre>\n"
      ],
      "text/plain": [
       "Pearson correlation between reasoning tokens and golden score: \u001b[1;36m0.0328\u001b[0m, p-value: \u001b[1;36m0.0000\u001b[0m\n"
      ]
     },
     "metadata": {},
     "output_type": "display_data"
    },
    {
     "data": {
      "text/html": [
       "<pre style=\"white-space:pre;overflow-x:auto;line-height:normal;font-family:Menlo,'DejaVu Sans Mono',consolas,'Courier New',monospace\">==================\n",
       "</pre>\n"
      ],
      "text/plain": [
       "==================\n"
      ]
     },
     "metadata": {},
     "output_type": "display_data"
    },
    {
     "data": {
      "text/html": [
       "<pre style=\"white-space:pre;overflow-x:auto;line-height:normal;font-family:Menlo,'DejaVu Sans Mono',consolas,'Courier New',monospace\">o3-mini-low\n",
       "</pre>\n"
      ],
      "text/plain": [
       "o3-mini-low\n"
      ]
     },
     "metadata": {},
     "output_type": "display_data"
    },
    {
     "data": {
      "text/html": [
       "<pre style=\"white-space:pre;overflow-x:auto;line-height:normal;font-family:Menlo,'DejaVu Sans Mono',consolas,'Courier New',monospace\">==================\n",
       "</pre>\n"
      ],
      "text/plain": [
       "==================\n"
      ]
     },
     "metadata": {},
     "output_type": "display_data"
    },
    {
     "data": {
      "text/html": [
       "<pre style=\"white-space:pre;overflow-x:auto;line-height:normal;font-family:Menlo,'DejaVu Sans Mono',consolas,'Courier New',monospace\">Pearson correlation between reasoning tokens and score difference: <span style=\"color: #008080; text-decoration-color: #008080; font-weight: bold\">-0.0919</span>, p-value: <span style=\"color: #008080; text-decoration-color: #008080; font-weight: bold\">0.0000</span>\n",
       "</pre>\n"
      ],
      "text/plain": [
       "Pearson correlation between reasoning tokens and score difference: \u001b[1;36m-0.0919\u001b[0m, p-value: \u001b[1;36m0.0000\u001b[0m\n"
      ]
     },
     "metadata": {},
     "output_type": "display_data"
    },
    {
     "data": {
      "text/html": [
       "<pre style=\"white-space:pre;overflow-x:auto;line-height:normal;font-family:Menlo,'DejaVu Sans Mono',consolas,'Courier New',monospace\">Pearson correlation between reasoning tokens and LLM score: <span style=\"color: #008080; text-decoration-color: #008080; font-weight: bold\">0.3466</span>, p-value: <span style=\"color: #008080; text-decoration-color: #008080; font-weight: bold\">0.0000</span>\n",
       "</pre>\n"
      ],
      "text/plain": [
       "Pearson correlation between reasoning tokens and LLM score: \u001b[1;36m0.3466\u001b[0m, p-value: \u001b[1;36m0.0000\u001b[0m\n"
      ]
     },
     "metadata": {},
     "output_type": "display_data"
    },
    {
     "data": {
      "text/html": [
       "<pre style=\"white-space:pre;overflow-x:auto;line-height:normal;font-family:Menlo,'DejaVu Sans Mono',consolas,'Courier New',monospace\">Pearson correlation between reasoning tokens and golden score: <span style=\"color: #008080; text-decoration-color: #008080; font-weight: bold\">0.0241</span>, p-value: <span style=\"color: #008080; text-decoration-color: #008080; font-weight: bold\">0.0000</span>\n",
       "</pre>\n"
      ],
      "text/plain": [
       "Pearson correlation between reasoning tokens and golden score: \u001b[1;36m0.0241\u001b[0m, p-value: \u001b[1;36m0.0000\u001b[0m\n"
      ]
     },
     "metadata": {},
     "output_type": "display_data"
    },
    {
     "data": {
      "text/html": [
       "<pre style=\"white-space:pre;overflow-x:auto;line-height:normal;font-family:Menlo,'DejaVu Sans Mono',consolas,'Courier New',monospace\">==================\n",
       "</pre>\n"
      ],
      "text/plain": [
       "==================\n"
      ]
     },
     "metadata": {},
     "output_type": "display_data"
    },
    {
     "data": {
      "text/html": [
       "<pre style=\"white-space:pre;overflow-x:auto;line-height:normal;font-family:Menlo,'DejaVu Sans Mono',consolas,'Courier New',monospace\">o3-mini-medium\n",
       "</pre>\n"
      ],
      "text/plain": [
       "o3-mini-medium\n"
      ]
     },
     "metadata": {},
     "output_type": "display_data"
    },
    {
     "data": {
      "text/html": [
       "<pre style=\"white-space:pre;overflow-x:auto;line-height:normal;font-family:Menlo,'DejaVu Sans Mono',consolas,'Courier New',monospace\">==================\n",
       "</pre>\n"
      ],
      "text/plain": [
       "==================\n"
      ]
     },
     "metadata": {},
     "output_type": "display_data"
    },
    {
     "data": {
      "text/html": [
       "<pre style=\"white-space:pre;overflow-x:auto;line-height:normal;font-family:Menlo,'DejaVu Sans Mono',consolas,'Courier New',monospace\">Pearson correlation between reasoning tokens and score difference: <span style=\"color: #008080; text-decoration-color: #008080; font-weight: bold\">-0.1104</span>, p-value: <span style=\"color: #008080; text-decoration-color: #008080; font-weight: bold\">0.0000</span>\n",
       "</pre>\n"
      ],
      "text/plain": [
       "Pearson correlation between reasoning tokens and score difference: \u001b[1;36m-0.1104\u001b[0m, p-value: \u001b[1;36m0.0000\u001b[0m\n"
      ]
     },
     "metadata": {},
     "output_type": "display_data"
    },
    {
     "data": {
      "text/html": [
       "<pre style=\"white-space:pre;overflow-x:auto;line-height:normal;font-family:Menlo,'DejaVu Sans Mono',consolas,'Courier New',monospace\">Pearson correlation between reasoning tokens and LLM score: <span style=\"color: #008080; text-decoration-color: #008080; font-weight: bold\">0.4148</span>, p-value: <span style=\"color: #008080; text-decoration-color: #008080; font-weight: bold\">0.0000</span>\n",
       "</pre>\n"
      ],
      "text/plain": [
       "Pearson correlation between reasoning tokens and LLM score: \u001b[1;36m0.4148\u001b[0m, p-value: \u001b[1;36m0.0000\u001b[0m\n"
      ]
     },
     "metadata": {},
     "output_type": "display_data"
    },
    {
     "data": {
      "text/html": [
       "<pre style=\"white-space:pre;overflow-x:auto;line-height:normal;font-family:Menlo,'DejaVu Sans Mono',consolas,'Courier New',monospace\">Pearson correlation between reasoning tokens and golden score: <span style=\"color: #008080; text-decoration-color: #008080; font-weight: bold\">0.0404</span>, p-value: <span style=\"color: #008080; text-decoration-color: #008080; font-weight: bold\">0.0000</span>\n",
       "</pre>\n"
      ],
      "text/plain": [
       "Pearson correlation between reasoning tokens and golden score: \u001b[1;36m0.0404\u001b[0m, p-value: \u001b[1;36m0.0000\u001b[0m\n"
      ]
     },
     "metadata": {},
     "output_type": "display_data"
    }
   ],
   "source": [
    "for model, df in joint.groupby('model'):\n",
    "    print(f\"==================\")\n",
    "    print(f\"{model}\")\n",
    "    print(f\"==================\")\n",
    "    pearson_corr, p_value = pearsonr(df['reasoning_tokens'], df['score_diff'])\n",
    "    print(f\"Pearson correlation between reasoning tokens and score difference: {pearson_corr:.4f}, p-value: {p_value:.4f}\")\n",
    "    pearson_corr, p_value = pearsonr(df['reasoning_tokens'], df['llm_mqm_score'].abs())\n",
    "    print(f\"Pearson correlation between reasoning tokens and LLM score: {pearson_corr:.4f}, p-value: {p_value:.4f}\")\n",
    "    pearson_corr, p_value = pearsonr(df['reasoning_tokens'], df['golden_mqm_score'].abs())\n",
    "    print(f\"Pearson correlation between reasoning tokens and golden score: {pearson_corr:.4f}, p-value: {p_value:.4f}\")"
   ]
  },
  {
   "cell_type": "code",
   "execution_count": null,
   "metadata": {},
   "outputs": [],
   "source": []
  }
 ],
 "metadata": {
  "kernelspec": {
   "display_name": "Python 3",
   "language": "python",
   "name": "python3"
  },
  "language_info": {
   "codemirror_mode": {
    "name": "ipython",
    "version": 3
   },
   "file_extension": ".py",
   "mimetype": "text/x-python",
   "name": "python",
   "nbconvert_exporter": "python",
   "pygments_lexer": "ipython3",
   "version": "3.11.11"
  }
 },
 "nbformat": 4,
 "nbformat_minor": 2
}
