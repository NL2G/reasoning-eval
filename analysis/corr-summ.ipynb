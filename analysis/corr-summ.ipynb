{
 "cells": [
  {
   "cell_type": "code",
   "execution_count": 2,
   "metadata": {},
   "outputs": [],
   "source": [
    "import pandas as pd"
   ]
  },
  {
   "cell_type": "code",
   "execution_count": 1,
   "metadata": {},
   "outputs": [],
   "source": [
    "from rich import print\n",
    "from scipy.stats import pearsonr, zscore\n",
    "import seaborn as sns\n",
    "import matplotlib.pyplot as plt\n",
    "%matplotlib inline\n",
    "%load_ext rich"
   ]
  },
  {
   "cell_type": "code",
   "execution_count": 3,
   "metadata": {},
   "outputs": [],
   "source": [
    "data = {\n",
    "    'DeepSeek R1': pd.read_csv(\"../src/reasoning_eval/summarization_evaluation/deepseek-r1.csv\"),\n",
    "    'R1 LLaMa 70B': pd.read_csv(\"../src/reasoning_eval/summarization_evaluation/deepseek-r1-l70b.csv\"),\n",
    "    'R1 Qwen 32B': pd.read_csv(\"../src/reasoning_eval/summarization_evaluation/deepseek-r1-q32b.csv\"),\n",
    "    'o3-mini-high': pd.read_csv(\"../src/reasoning_eval/summarization_evaluation/o3-mini.high.csv\"),\n",
    "    'o3-mini-medium': pd.read_csv(\"../src/reasoning_eval/summarization_evaluation/o3-mini.medium.csv\"),\n",
    "    'o3-mini-low': pd.read_csv(\"../src/reasoning_eval/summarization_evaluation/o3-mini.low.csv\"),\n",
    "}"
   ]
  },
  {
   "cell_type": "code",
   "execution_count": 4,
   "metadata": {},
   "outputs": [
    {
     "data": {
      "text/html": [
       "<pre style=\"white-space:pre;overflow-x:auto;line-height:normal;font-family:Menlo,'DejaVu Sans Mono',consolas,'Courier New',monospace\"></pre>\n"
      ],
      "text/plain": []
     },
     "metadata": {},
     "output_type": "display_data"
    },
    {
     "data": {
      "text/html": [
       "<div>\n",
       "<style scoped>\n",
       "    .dataframe tbody tr th:only-of-type {\n",
       "        vertical-align: middle;\n",
       "    }\n",
       "\n",
       "    .dataframe tbody tr th {\n",
       "        vertical-align: top;\n",
       "    }\n",
       "\n",
       "    .dataframe thead th {\n",
       "        text-align: right;\n",
       "    }\n",
       "</style>\n",
       "<table border=\"1\" class=\"dataframe\">\n",
       "  <thead>\n",
       "    <tr style=\"text-align: right;\">\n",
       "      <th></th>\n",
       "      <th>id</th>\n",
       "      <th>aspect</th>\n",
       "      <th>normalized_llm_score</th>\n",
       "      <th>normalized_true_score</th>\n",
       "      <th>normalized_error</th>\n",
       "      <th>reasoning_length</th>\n",
       "    </tr>\n",
       "  </thead>\n",
       "  <tbody>\n",
       "    <tr>\n",
       "      <th>0</th>\n",
       "      <td>dm-test-8764fb95bfad8ee849274873a92fb8d6b400eee2</td>\n",
       "      <td>consistency</td>\n",
       "      <td>0.0</td>\n",
       "      <td>1.0</td>\n",
       "      <td>1.00</td>\n",
       "      <td>402</td>\n",
       "    </tr>\n",
       "    <tr>\n",
       "      <th>1</th>\n",
       "      <td>dm-test-8764fb95bfad8ee849274873a92fb8d6b400eee2</td>\n",
       "      <td>consistency</td>\n",
       "      <td>1.0</td>\n",
       "      <td>1.0</td>\n",
       "      <td>0.00</td>\n",
       "      <td>862</td>\n",
       "    </tr>\n",
       "    <tr>\n",
       "      <th>2</th>\n",
       "      <td>dm-test-8764fb95bfad8ee849274873a92fb8d6b400eee2</td>\n",
       "      <td>consistency</td>\n",
       "      <td>1.0</td>\n",
       "      <td>1.0</td>\n",
       "      <td>0.00</td>\n",
       "      <td>565</td>\n",
       "    </tr>\n",
       "    <tr>\n",
       "      <th>3</th>\n",
       "      <td>dm-test-8764fb95bfad8ee849274873a92fb8d6b400eee2</td>\n",
       "      <td>consistency</td>\n",
       "      <td>1.0</td>\n",
       "      <td>1.0</td>\n",
       "      <td>0.00</td>\n",
       "      <td>372</td>\n",
       "    </tr>\n",
       "    <tr>\n",
       "      <th>4</th>\n",
       "      <td>dm-test-8764fb95bfad8ee849274873a92fb8d6b400eee2</td>\n",
       "      <td>consistency</td>\n",
       "      <td>1.0</td>\n",
       "      <td>1.0</td>\n",
       "      <td>0.00</td>\n",
       "      <td>395</td>\n",
       "    </tr>\n",
       "    <tr>\n",
       "      <th>...</th>\n",
       "      <td>...</td>\n",
       "      <td>...</td>\n",
       "      <td>...</td>\n",
       "      <td>...</td>\n",
       "      <td>...</td>\n",
       "      <td>...</td>\n",
       "    </tr>\n",
       "    <tr>\n",
       "      <th>6392</th>\n",
       "      <td>dm-test-e880fda4c25289f8325574246f0f8ed4ff5eb26b</td>\n",
       "      <td>fluency</td>\n",
       "      <td>0.5</td>\n",
       "      <td>1.0</td>\n",
       "      <td>0.75</td>\n",
       "      <td>804</td>\n",
       "    </tr>\n",
       "    <tr>\n",
       "      <th>6393</th>\n",
       "      <td>dm-test-e880fda4c25289f8325574246f0f8ed4ff5eb26b</td>\n",
       "      <td>fluency</td>\n",
       "      <td>0.5</td>\n",
       "      <td>1.0</td>\n",
       "      <td>0.75</td>\n",
       "      <td>280</td>\n",
       "    </tr>\n",
       "    <tr>\n",
       "      <th>6394</th>\n",
       "      <td>dm-test-e880fda4c25289f8325574246f0f8ed4ff5eb26b</td>\n",
       "      <td>fluency</td>\n",
       "      <td>0.5</td>\n",
       "      <td>1.0</td>\n",
       "      <td>0.75</td>\n",
       "      <td>388</td>\n",
       "    </tr>\n",
       "    <tr>\n",
       "      <th>6395</th>\n",
       "      <td>dm-test-e880fda4c25289f8325574246f0f8ed4ff5eb26b</td>\n",
       "      <td>fluency</td>\n",
       "      <td>0.5</td>\n",
       "      <td>1.0</td>\n",
       "      <td>0.75</td>\n",
       "      <td>291</td>\n",
       "    </tr>\n",
       "    <tr>\n",
       "      <th>6396</th>\n",
       "      <td>dm-test-e880fda4c25289f8325574246f0f8ed4ff5eb26b</td>\n",
       "      <td>fluency</td>\n",
       "      <td>0.5</td>\n",
       "      <td>1.0</td>\n",
       "      <td>0.75</td>\n",
       "      <td>409</td>\n",
       "    </tr>\n",
       "  </tbody>\n",
       "</table>\n",
       "<p>6397 rows × 6 columns</p>\n",
       "</div>"
      ],
      "text/plain": [
       "\n",
       "                                                    id       aspect  \\\n",
       "\u001b[1;36m0\u001b[0m     dm-test-8764fb95bfad8ee849274873a92fb8d6b400eee2  consistency   \n",
       "\u001b[1;36m1\u001b[0m     dm-test-8764fb95bfad8ee849274873a92fb8d6b400eee2  consistency   \n",
       "\u001b[1;36m2\u001b[0m     dm-test-8764fb95bfad8ee849274873a92fb8d6b400eee2  consistency   \n",
       "\u001b[1;36m3\u001b[0m     dm-test-8764fb95bfad8ee849274873a92fb8d6b400eee2  consistency   \n",
       "\u001b[1;36m4\u001b[0m     dm-test-8764fb95bfad8ee849274873a92fb8d6b400eee2  consistency   \n",
       "\u001b[33m...\u001b[0m                                                \u001b[33m...\u001b[0m          \u001b[33m...\u001b[0m   \n",
       "\u001b[1;36m6392\u001b[0m  dm-test-e880fda4c25289f8325574246f0f8ed4ff5eb26b      fluency   \n",
       "\u001b[1;36m6393\u001b[0m  dm-test-e880fda4c25289f8325574246f0f8ed4ff5eb26b      fluency   \n",
       "\u001b[1;36m6394\u001b[0m  dm-test-e880fda4c25289f8325574246f0f8ed4ff5eb26b      fluency   \n",
       "\u001b[1;36m6395\u001b[0m  dm-test-e880fda4c25289f8325574246f0f8ed4ff5eb26b      fluency   \n",
       "\u001b[1;36m6396\u001b[0m  dm-test-e880fda4c25289f8325574246f0f8ed4ff5eb26b      fluency   \n",
       "\n",
       "      normalized_llm_score  normalized_true_score  normalized_error  \\\n",
       "\u001b[1;36m0\u001b[0m                      \u001b[1;36m0.0\u001b[0m                    \u001b[1;36m1.0\u001b[0m              \u001b[1;36m1.00\u001b[0m   \n",
       "\u001b[1;36m1\u001b[0m                      \u001b[1;36m1.0\u001b[0m                    \u001b[1;36m1.0\u001b[0m              \u001b[1;36m0.00\u001b[0m   \n",
       "\u001b[1;36m2\u001b[0m                      \u001b[1;36m1.0\u001b[0m                    \u001b[1;36m1.0\u001b[0m              \u001b[1;36m0.00\u001b[0m   \n",
       "\u001b[1;36m3\u001b[0m                      \u001b[1;36m1.0\u001b[0m                    \u001b[1;36m1.0\u001b[0m              \u001b[1;36m0.00\u001b[0m   \n",
       "\u001b[1;36m4\u001b[0m                      \u001b[1;36m1.0\u001b[0m                    \u001b[1;36m1.0\u001b[0m              \u001b[1;36m0.00\u001b[0m   \n",
       "\u001b[33m...\u001b[0m                    \u001b[33m...\u001b[0m                    \u001b[33m...\u001b[0m               \u001b[33m...\u001b[0m   \n",
       "\u001b[1;36m6392\u001b[0m                   \u001b[1;36m0.5\u001b[0m                    \u001b[1;36m1.0\u001b[0m              \u001b[1;36m0.75\u001b[0m   \n",
       "\u001b[1;36m6393\u001b[0m                   \u001b[1;36m0.5\u001b[0m                    \u001b[1;36m1.0\u001b[0m              \u001b[1;36m0.75\u001b[0m   \n",
       "\u001b[1;36m6394\u001b[0m                   \u001b[1;36m0.5\u001b[0m                    \u001b[1;36m1.0\u001b[0m              \u001b[1;36m0.75\u001b[0m   \n",
       "\u001b[1;36m6395\u001b[0m                   \u001b[1;36m0.5\u001b[0m                    \u001b[1;36m1.0\u001b[0m              \u001b[1;36m0.75\u001b[0m   \n",
       "\u001b[1;36m6396\u001b[0m                   \u001b[1;36m0.5\u001b[0m                    \u001b[1;36m1.0\u001b[0m              \u001b[1;36m0.75\u001b[0m   \n",
       "\n",
       "      reasoning_length  \n",
       "\u001b[1;36m0\u001b[0m                  \u001b[1;36m402\u001b[0m  \n",
       "\u001b[1;36m1\u001b[0m                  \u001b[1;36m862\u001b[0m  \n",
       "\u001b[1;36m2\u001b[0m                  \u001b[1;36m565\u001b[0m  \n",
       "\u001b[1;36m3\u001b[0m                  \u001b[1;36m372\u001b[0m  \n",
       "\u001b[1;36m4\u001b[0m                  \u001b[1;36m395\u001b[0m  \n",
       "\u001b[33m...\u001b[0m                \u001b[33m...\u001b[0m  \n",
       "\u001b[1;36m6392\u001b[0m               \u001b[1;36m804\u001b[0m  \n",
       "\u001b[1;36m6393\u001b[0m               \u001b[1;36m280\u001b[0m  \n",
       "\u001b[1;36m6394\u001b[0m               \u001b[1;36m388\u001b[0m  \n",
       "\u001b[1;36m6395\u001b[0m               \u001b[1;36m291\u001b[0m  \n",
       "\u001b[1;36m6396\u001b[0m               \u001b[1;36m409\u001b[0m  \n",
       "\n",
       "\u001b[1m[\u001b[0m\u001b[1;36m6397\u001b[0m rows x \u001b[1;36m6\u001b[0m columns\u001b[1m]\u001b[0m"
      ]
     },
     "execution_count": 4,
     "metadata": {},
     "output_type": "execute_result"
    }
   ],
   "source": [
    "data['DeepSeek R1']"
   ]
  },
  {
   "cell_type": "code",
   "execution_count": 9,
   "metadata": {},
   "outputs": [
    {
     "data": {
      "text/html": [
       "<pre style=\"white-space:pre;overflow-x:auto;line-height:normal;font-family:Menlo,'DejaVu Sans Mono',consolas,'Courier New',monospace\">============================================================\n",
       "</pre>\n"
      ],
      "text/plain": [
       "============================================================\n"
      ]
     },
     "metadata": {},
     "output_type": "display_data"
    },
    {
     "data": {
      "text/html": [
       "<pre style=\"white-space:pre;overflow-x:auto;line-height:normal;font-family:Menlo,'DejaVu Sans Mono',consolas,'Courier New',monospace\">DeepSeek R1\n",
       "</pre>\n"
      ],
      "text/plain": [
       "DeepSeek R1\n"
      ]
     },
     "metadata": {},
     "output_type": "display_data"
    },
    {
     "data": {
      "text/html": [
       "<pre style=\"white-space:pre;overflow-x:auto;line-height:normal;font-family:Menlo,'DejaVu Sans Mono',consolas,'Courier New',monospace\">Error: <span style=\"color: #800080; text-decoration-color: #800080; font-weight: bold\">PearsonRResult</span><span style=\"font-weight: bold\">(</span><span style=\"color: #808000; text-decoration-color: #808000\">statistic</span>=<span style=\"color: #008080; text-decoration-color: #008080; font-weight: bold\">-0.05461960312128621</span>, <span style=\"color: #808000; text-decoration-color: #808000\">pvalue</span>=<span style=\"color: #008080; text-decoration-color: #008080; font-weight: bold\">1.2370533357223745e-05</span><span style=\"font-weight: bold\">)</span>\n",
       "</pre>\n"
      ],
      "text/plain": [
       "Error: \u001b[1;35mPearsonRResult\u001b[0m\u001b[1m(\u001b[0m\u001b[33mstatistic\u001b[0m=\u001b[1;36m-0.05461960312128621\u001b[0m, \u001b[33mpvalue\u001b[0m=\u001b[1;36m1\u001b[0m\u001b[1;36m.2370533357223745e-05\u001b[0m\u001b[1m)\u001b[0m\n"
      ]
     },
     "metadata": {},
     "output_type": "display_data"
    },
    {
     "data": {
      "text/html": [
       "<pre style=\"white-space:pre;overflow-x:auto;line-height:normal;font-family:Menlo,'DejaVu Sans Mono',consolas,'Courier New',monospace\">LLMSore: <span style=\"color: #800080; text-decoration-color: #800080; font-weight: bold\">PearsonRResult</span><span style=\"font-weight: bold\">(</span><span style=\"color: #808000; text-decoration-color: #808000\">statistic</span>=<span style=\"color: #008080; text-decoration-color: #008080; font-weight: bold\">-0.010693080630528803</span>, <span style=\"color: #808000; text-decoration-color: #808000\">pvalue</span>=<span style=\"color: #008080; text-decoration-color: #008080; font-weight: bold\">0.39249399455342304</span><span style=\"font-weight: bold\">)</span>\n",
       "</pre>\n"
      ],
      "text/plain": [
       "LLMSore: \u001b[1;35mPearsonRResult\u001b[0m\u001b[1m(\u001b[0m\u001b[33mstatistic\u001b[0m=\u001b[1;36m-0.010693080630528803\u001b[0m, \u001b[33mpvalue\u001b[0m=\u001b[1;36m0\u001b[0m\u001b[1;36m.39249399455342304\u001b[0m\u001b[1m)\u001b[0m\n"
      ]
     },
     "metadata": {},
     "output_type": "display_data"
    },
    {
     "data": {
      "text/html": [
       "<pre style=\"white-space:pre;overflow-x:auto;line-height:normal;font-family:Menlo,'DejaVu Sans Mono',consolas,'Courier New',monospace\">============================================================\n",
       "</pre>\n"
      ],
      "text/plain": [
       "============================================================\n"
      ]
     },
     "metadata": {},
     "output_type": "display_data"
    },
    {
     "data": {
      "text/html": [
       "<pre style=\"white-space:pre;overflow-x:auto;line-height:normal;font-family:Menlo,'DejaVu Sans Mono',consolas,'Courier New',monospace\">R1 LLaMa 70B\n",
       "</pre>\n"
      ],
      "text/plain": [
       "R1 LLaMa 70B\n"
      ]
     },
     "metadata": {},
     "output_type": "display_data"
    },
    {
     "data": {
      "text/html": [
       "<pre style=\"white-space:pre;overflow-x:auto;line-height:normal;font-family:Menlo,'DejaVu Sans Mono',consolas,'Courier New',monospace\">Error: <span style=\"color: #800080; text-decoration-color: #800080; font-weight: bold\">PearsonRResult</span><span style=\"font-weight: bold\">(</span><span style=\"color: #808000; text-decoration-color: #808000\">statistic</span>=<span style=\"color: #008080; text-decoration-color: #008080; font-weight: bold\">0.026037816916741927</span>, <span style=\"color: #808000; text-decoration-color: #808000\">pvalue</span>=<span style=\"color: #008080; text-decoration-color: #008080; font-weight: bold\">0.03726865557378997</span><span style=\"font-weight: bold\">)</span>\n",
       "</pre>\n"
      ],
      "text/plain": [
       "Error: \u001b[1;35mPearsonRResult\u001b[0m\u001b[1m(\u001b[0m\u001b[33mstatistic\u001b[0m=\u001b[1;36m0\u001b[0m\u001b[1;36m.026037816916741927\u001b[0m, \u001b[33mpvalue\u001b[0m=\u001b[1;36m0\u001b[0m\u001b[1;36m.03726865557378997\u001b[0m\u001b[1m)\u001b[0m\n"
      ]
     },
     "metadata": {},
     "output_type": "display_data"
    },
    {
     "data": {
      "text/html": [
       "<pre style=\"white-space:pre;overflow-x:auto;line-height:normal;font-family:Menlo,'DejaVu Sans Mono',consolas,'Courier New',monospace\">LLMSore: <span style=\"color: #800080; text-decoration-color: #800080; font-weight: bold\">PearsonRResult</span><span style=\"font-weight: bold\">(</span><span style=\"color: #808000; text-decoration-color: #808000\">statistic</span>=<span style=\"color: #008080; text-decoration-color: #008080; font-weight: bold\">-0.22096521570522523</span>, <span style=\"color: #808000; text-decoration-color: #808000\">pvalue</span>=<span style=\"color: #008080; text-decoration-color: #008080; font-weight: bold\">1.3132872940624988e-71</span><span style=\"font-weight: bold\">)</span>\n",
       "</pre>\n"
      ],
      "text/plain": [
       "LLMSore: \u001b[1;35mPearsonRResult\u001b[0m\u001b[1m(\u001b[0m\u001b[33mstatistic\u001b[0m=\u001b[1;36m-0.22096521570522523\u001b[0m, \u001b[33mpvalue\u001b[0m=\u001b[1;36m1\u001b[0m\u001b[1;36m.3132872940624988e-71\u001b[0m\u001b[1m)\u001b[0m\n"
      ]
     },
     "metadata": {},
     "output_type": "display_data"
    },
    {
     "data": {
      "text/html": [
       "<pre style=\"white-space:pre;overflow-x:auto;line-height:normal;font-family:Menlo,'DejaVu Sans Mono',consolas,'Courier New',monospace\">============================================================\n",
       "</pre>\n"
      ],
      "text/plain": [
       "============================================================\n"
      ]
     },
     "metadata": {},
     "output_type": "display_data"
    },
    {
     "data": {
      "text/html": [
       "<pre style=\"white-space:pre;overflow-x:auto;line-height:normal;font-family:Menlo,'DejaVu Sans Mono',consolas,'Courier New',monospace\">R1 Qwen 32B\n",
       "</pre>\n"
      ],
      "text/plain": [
       "R1 Qwen 32B\n"
      ]
     },
     "metadata": {},
     "output_type": "display_data"
    },
    {
     "data": {
      "text/html": [
       "<pre style=\"white-space:pre;overflow-x:auto;line-height:normal;font-family:Menlo,'DejaVu Sans Mono',consolas,'Courier New',monospace\">Error: <span style=\"color: #800080; text-decoration-color: #800080; font-weight: bold\">PearsonRResult</span><span style=\"font-weight: bold\">(</span><span style=\"color: #808000; text-decoration-color: #808000\">statistic</span>=<span style=\"color: #008080; text-decoration-color: #008080; font-weight: bold\">-0.1228249241665493</span>, <span style=\"color: #808000; text-decoration-color: #808000\">pvalue</span>=<span style=\"color: #008080; text-decoration-color: #008080; font-weight: bold\">3.7539391889166263e-19</span><span style=\"font-weight: bold\">)</span>\n",
       "</pre>\n"
      ],
      "text/plain": [
       "Error: \u001b[1;35mPearsonRResult\u001b[0m\u001b[1m(\u001b[0m\u001b[33mstatistic\u001b[0m=\u001b[1;36m-0.1228249241665493\u001b[0m, \u001b[33mpvalue\u001b[0m=\u001b[1;36m3\u001b[0m\u001b[1;36m.7539391889166263e-19\u001b[0m\u001b[1m)\u001b[0m\n"
      ]
     },
     "metadata": {},
     "output_type": "display_data"
    },
    {
     "data": {
      "text/html": [
       "<pre style=\"white-space:pre;overflow-x:auto;line-height:normal;font-family:Menlo,'DejaVu Sans Mono',consolas,'Courier New',monospace\">LLMSore: <span style=\"color: #800080; text-decoration-color: #800080; font-weight: bold\">PearsonRResult</span><span style=\"font-weight: bold\">(</span><span style=\"color: #808000; text-decoration-color: #808000\">statistic</span>=<span style=\"color: #008080; text-decoration-color: #008080; font-weight: bold\">-0.216705810317936</span>, <span style=\"color: #808000; text-decoration-color: #808000\">pvalue</span>=<span style=\"color: #008080; text-decoration-color: #008080; font-weight: bold\">5.407801018108814e-57</span><span style=\"font-weight: bold\">)</span>\n",
       "</pre>\n"
      ],
      "text/plain": [
       "LLMSore: \u001b[1;35mPearsonRResult\u001b[0m\u001b[1m(\u001b[0m\u001b[33mstatistic\u001b[0m=\u001b[1;36m-0.216705810317936\u001b[0m, \u001b[33mpvalue\u001b[0m=\u001b[1;36m5\u001b[0m\u001b[1;36m.407801018108814e-57\u001b[0m\u001b[1m)\u001b[0m\n"
      ]
     },
     "metadata": {},
     "output_type": "display_data"
    },
    {
     "data": {
      "text/html": [
       "<pre style=\"white-space:pre;overflow-x:auto;line-height:normal;font-family:Menlo,'DejaVu Sans Mono',consolas,'Courier New',monospace\">============================================================\n",
       "</pre>\n"
      ],
      "text/plain": [
       "============================================================\n"
      ]
     },
     "metadata": {},
     "output_type": "display_data"
    },
    {
     "data": {
      "text/html": [
       "<pre style=\"white-space:pre;overflow-x:auto;line-height:normal;font-family:Menlo,'DejaVu Sans Mono',consolas,'Courier New',monospace\">o3-mini-high\n",
       "</pre>\n"
      ],
      "text/plain": [
       "o3-mini-high\n"
      ]
     },
     "metadata": {},
     "output_type": "display_data"
    },
    {
     "data": {
      "text/html": [
       "<pre style=\"white-space:pre;overflow-x:auto;line-height:normal;font-family:Menlo,'DejaVu Sans Mono',consolas,'Courier New',monospace\">Error: <span style=\"color: #800080; text-decoration-color: #800080; font-weight: bold\">PearsonRResult</span><span style=\"font-weight: bold\">(</span><span style=\"color: #808000; text-decoration-color: #808000\">statistic</span>=<span style=\"color: #008080; text-decoration-color: #008080; font-weight: bold\">-0.1559755271706904</span>, <span style=\"color: #808000; text-decoration-color: #808000\">pvalue</span>=<span style=\"color: #008080; text-decoration-color: #008080; font-weight: bold\">4.148818559213762e-36</span><span style=\"font-weight: bold\">)</span>\n",
       "</pre>\n"
      ],
      "text/plain": [
       "Error: \u001b[1;35mPearsonRResult\u001b[0m\u001b[1m(\u001b[0m\u001b[33mstatistic\u001b[0m=\u001b[1;36m-0.1559755271706904\u001b[0m, \u001b[33mpvalue\u001b[0m=\u001b[1;36m4\u001b[0m\u001b[1;36m.148818559213762e-36\u001b[0m\u001b[1m)\u001b[0m\n"
      ]
     },
     "metadata": {},
     "output_type": "display_data"
    },
    {
     "data": {
      "text/html": [
       "<pre style=\"white-space:pre;overflow-x:auto;line-height:normal;font-family:Menlo,'DejaVu Sans Mono',consolas,'Courier New',monospace\">LLMSore: <span style=\"color: #800080; text-decoration-color: #800080; font-weight: bold\">PearsonRResult</span><span style=\"font-weight: bold\">(</span><span style=\"color: #808000; text-decoration-color: #808000\">statistic</span>=<span style=\"color: #008080; text-decoration-color: #008080; font-weight: bold\">-0.20933580019024</span>, <span style=\"color: #808000; text-decoration-color: #808000\">pvalue</span>=<span style=\"color: #008080; text-decoration-color: #008080; font-weight: bold\">3.0156863912239953e-64</span><span style=\"font-weight: bold\">)</span>\n",
       "</pre>\n"
      ],
      "text/plain": [
       "LLMSore: \u001b[1;35mPearsonRResult\u001b[0m\u001b[1m(\u001b[0m\u001b[33mstatistic\u001b[0m=\u001b[1;36m-0.20933580019024\u001b[0m, \u001b[33mpvalue\u001b[0m=\u001b[1;36m3\u001b[0m\u001b[1;36m.0156863912239953e-64\u001b[0m\u001b[1m)\u001b[0m\n"
      ]
     },
     "metadata": {},
     "output_type": "display_data"
    },
    {
     "data": {
      "text/html": [
       "<pre style=\"white-space:pre;overflow-x:auto;line-height:normal;font-family:Menlo,'DejaVu Sans Mono',consolas,'Courier New',monospace\">============================================================\n",
       "</pre>\n"
      ],
      "text/plain": [
       "============================================================\n"
      ]
     },
     "metadata": {},
     "output_type": "display_data"
    },
    {
     "data": {
      "text/html": [
       "<pre style=\"white-space:pre;overflow-x:auto;line-height:normal;font-family:Menlo,'DejaVu Sans Mono',consolas,'Courier New',monospace\">o3-mini-medium\n",
       "</pre>\n"
      ],
      "text/plain": [
       "o3-mini-medium\n"
      ]
     },
     "metadata": {},
     "output_type": "display_data"
    },
    {
     "data": {
      "text/html": [
       "<pre style=\"white-space:pre;overflow-x:auto;line-height:normal;font-family:Menlo,'DejaVu Sans Mono',consolas,'Courier New',monospace\">Error: <span style=\"color: #800080; text-decoration-color: #800080; font-weight: bold\">PearsonRResult</span><span style=\"font-weight: bold\">(</span><span style=\"color: #808000; text-decoration-color: #808000\">statistic</span>=<span style=\"color: #008080; text-decoration-color: #008080; font-weight: bold\">-0.09092919257933604</span>, <span style=\"color: #808000; text-decoration-color: #808000\">pvalue</span>=<span style=\"color: #008080; text-decoration-color: #008080; font-weight: bold\">3.2952351504870276e-13</span><span style=\"font-weight: bold\">)</span>\n",
       "</pre>\n"
      ],
      "text/plain": [
       "Error: \u001b[1;35mPearsonRResult\u001b[0m\u001b[1m(\u001b[0m\u001b[33mstatistic\u001b[0m=\u001b[1;36m-0.09092919257933604\u001b[0m, \u001b[33mpvalue\u001b[0m=\u001b[1;36m3\u001b[0m\u001b[1;36m.2952351504870276e-13\u001b[0m\u001b[1m)\u001b[0m\n"
      ]
     },
     "metadata": {},
     "output_type": "display_data"
    },
    {
     "data": {
      "text/html": [
       "<pre style=\"white-space:pre;overflow-x:auto;line-height:normal;font-family:Menlo,'DejaVu Sans Mono',consolas,'Courier New',monospace\">LLMSore: <span style=\"color: #800080; text-decoration-color: #800080; font-weight: bold\">PearsonRResult</span><span style=\"font-weight: bold\">(</span><span style=\"color: #808000; text-decoration-color: #808000\">statistic</span>=<span style=\"color: #008080; text-decoration-color: #008080; font-weight: bold\">-0.18944444719037629</span>, <span style=\"color: #808000; text-decoration-color: #808000\">pvalue</span>=<span style=\"color: #008080; text-decoration-color: #008080; font-weight: bold\">1.070028985772172e-52</span><span style=\"font-weight: bold\">)</span>\n",
       "</pre>\n"
      ],
      "text/plain": [
       "LLMSore: \u001b[1;35mPearsonRResult\u001b[0m\u001b[1m(\u001b[0m\u001b[33mstatistic\u001b[0m=\u001b[1;36m-0.18944444719037629\u001b[0m, \u001b[33mpvalue\u001b[0m=\u001b[1;36m1\u001b[0m\u001b[1;36m.070028985772172e-52\u001b[0m\u001b[1m)\u001b[0m\n"
      ]
     },
     "metadata": {},
     "output_type": "display_data"
    },
    {
     "data": {
      "text/html": [
       "<pre style=\"white-space:pre;overflow-x:auto;line-height:normal;font-family:Menlo,'DejaVu Sans Mono',consolas,'Courier New',monospace\">============================================================\n",
       "</pre>\n"
      ],
      "text/plain": [
       "============================================================\n"
      ]
     },
     "metadata": {},
     "output_type": "display_data"
    },
    {
     "data": {
      "text/html": [
       "<pre style=\"white-space:pre;overflow-x:auto;line-height:normal;font-family:Menlo,'DejaVu Sans Mono',consolas,'Courier New',monospace\">o3-mini-low\n",
       "</pre>\n"
      ],
      "text/plain": [
       "o3-mini-low\n"
      ]
     },
     "metadata": {},
     "output_type": "display_data"
    },
    {
     "data": {
      "text/html": [
       "<pre style=\"white-space:pre;overflow-x:auto;line-height:normal;font-family:Menlo,'DejaVu Sans Mono',consolas,'Courier New',monospace\">Error: <span style=\"color: #800080; text-decoration-color: #800080; font-weight: bold\">PearsonRResult</span><span style=\"font-weight: bold\">(</span><span style=\"color: #808000; text-decoration-color: #808000\">statistic</span>=<span style=\"color: #008080; text-decoration-color: #008080; font-weight: bold\">-0.006857828586821588</span>, <span style=\"color: #808000; text-decoration-color: #808000\">pvalue</span>=<span style=\"color: #008080; text-decoration-color: #008080; font-weight: bold\">0.6043875842081463</span><span style=\"font-weight: bold\">)</span>\n",
       "</pre>\n"
      ],
      "text/plain": [
       "Error: \u001b[1;35mPearsonRResult\u001b[0m\u001b[1m(\u001b[0m\u001b[33mstatistic\u001b[0m=\u001b[1;36m-0.006857828586821588\u001b[0m, \u001b[33mpvalue\u001b[0m=\u001b[1;36m0\u001b[0m\u001b[1;36m.6043875842081463\u001b[0m\u001b[1m)\u001b[0m\n"
      ]
     },
     "metadata": {},
     "output_type": "display_data"
    },
    {
     "data": {
      "text/html": [
       "<pre style=\"white-space:pre;overflow-x:auto;line-height:normal;font-family:Menlo,'DejaVu Sans Mono',consolas,'Courier New',monospace\">LLMSore: <span style=\"color: #800080; text-decoration-color: #800080; font-weight: bold\">PearsonRResult</span><span style=\"font-weight: bold\">(</span><span style=\"color: #808000; text-decoration-color: #808000\">statistic</span>=<span style=\"color: #008080; text-decoration-color: #008080; font-weight: bold\">-0.14925894834664044</span>, <span style=\"color: #808000; text-decoration-color: #808000\">pvalue</span>=<span style=\"color: #008080; text-decoration-color: #008080; font-weight: bold\">8.3345500908488e-30</span><span style=\"font-weight: bold\">)</span>\n",
       "</pre>\n"
      ],
      "text/plain": [
       "LLMSore: \u001b[1;35mPearsonRResult\u001b[0m\u001b[1m(\u001b[0m\u001b[33mstatistic\u001b[0m=\u001b[1;36m-0.14925894834664044\u001b[0m, \u001b[33mpvalue\u001b[0m=\u001b[1;36m8\u001b[0m\u001b[1;36m.3345500908488e-30\u001b[0m\u001b[1m)\u001b[0m\n"
      ]
     },
     "metadata": {},
     "output_type": "display_data"
    }
   ],
   "source": [
    "for key, df in data.items():\n",
    "    print(\"===\"*20)\n",
    "    print(key)\n",
    "    print(f\"Error: {pearsonr(df['normalized_error'], df['reasoning_length'])}\")\n",
    "    print(f\"LLMSore: {pearsonr(df['normalized_llm_score'], df['reasoning_length'])}\")"
   ]
  },
  {
   "cell_type": "code",
   "execution_count": null,
   "metadata": {},
   "outputs": [],
   "source": []
  }
 ],
 "metadata": {
  "kernelspec": {
   "display_name": "Python 3",
   "language": "python",
   "name": "python3"
  },
  "language_info": {
   "codemirror_mode": {
    "name": "ipython",
    "version": 3
   },
   "file_extension": ".py",
   "mimetype": "text/x-python",
   "name": "python",
   "nbconvert_exporter": "python",
   "pygments_lexer": "ipython3",
   "version": "3.11.11"
  }
 },
 "nbformat": 4,
 "nbformat_minor": 2
}
